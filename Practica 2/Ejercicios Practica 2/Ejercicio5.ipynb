{
 "cells": [
  {
   "cell_type": "markdown",
   "metadata": {},
   "source": [
    "# Practica 2"
   ]
  },
  {
   "cell_type": "markdown",
   "metadata": {},
   "source": [
    "### Ejercicio 5"
   ]
  },
  {
   "cell_type": "markdown",
   "metadata": {},
   "source": [
    "5. Para la aceptación de un artículo en un congreso se definen las siguientes\n",
    "especificaciones que deben cumplir y recomendaciones de escritura:\n",
    "Es importante destacar que los números no se consideran palabras al momento del\n",
    "análisis por su facilidad de lectura.\n",
    "Dado un artículo en formato string, defina si cumple las especificaciones del título y\n",
    "cuántas oraciones tiene de cada categoría. "
   ]
  },
  {
   "cell_type": "code",
   "execution_count": 17,
   "metadata": {},
   "outputs": [],
   "source": [
    "article = \"\"\" título: Experiences in Developing a Distributed Agent-based Modeling Toolkit with Python Version 3\n",
    "resumen: Distributed agent-based modeling (ABM) on high-performance\n",
    "computing resources provides the promise of capturing unprecedented\n",
    "details of large-scale complex systems. However, the specialized\n",
    "knowledge required for developing such ABMs creates barriers to wider\n",
    "adoption and utilization. Here we present our experiences in\n",
    "developing an initial implementation of Repast4Py, a Python-based\n",
    "distributed ABM toolkit. We build on our experiences in developing ABM\n",
    "toolkits, including Repast for High Performance Computing (Repast\n",
    "HPC), to identify the key elements of a useful distributed ABM\n",
    "toolkit. We leverage the Numba, NumPy, and PyTorch packages and the\n",
    "Python C-API to create a scalable modeling system that can exploit the\n",
    "largest HPC resources and emerging computing architectures. \"\"\""
   ]
  },
  {
   "cell_type": "markdown",
   "metadata": {},
   "source": [
    "Separo el articulo en dos partes, aplicando la funcion split() con la palabra clave: resumen<br>\n",
    "</n>\n",
    "La cual genera una lista con dos elementos, donde uno es el titulo y otro el texto de resumen.<br>\n",
    "\n"
   ]
  },
  {
   "cell_type": "code",
   "execution_count": 18,
   "metadata": {},
   "outputs": [
    {
     "name": "stdout",
     "output_type": "stream",
     "text": [
      "[' título: Experiences in Developing a Distributed Agent-based Modeling Toolkit with Python Version 3\\n', ' Distributed agent-based modeling (ABM) on high-performance\\ncomputing resources provides the promise of capturing unprecedented\\ndetails of large-scale complex systems. However, the specialized\\nknowledge required for developing such ABMs creates barriers to wider\\nadoption and utilization. Here we present our experiences in\\ndeveloping an initial implementation of Repast4Py, a Python-based\\ndistributed ABM toolkit. We build on our experiences in developing ABM\\ntoolkits, including Repast for High Performance Computing (Repast\\nHPC), to identify the key elements of a useful distributed ABM\\ntoolkit. We leverage the Numba, NumPy, and PyTorch packages and the\\nPython C-API to create a scalable modeling system that can exploit the\\nlargest HPC resources and emerging computing architectures. ']\n"
     ]
    }
   ],
   "source": [
    "separated_text = article.split(\"resumen:\")\n",
    "\n",
    "print(separated_text)"
   ]
  },
  {
   "cell_type": "markdown",
   "metadata": {},
   "source": [
    "Ahora quito la palabra \"titulo: \" del String y lo guardo en una variable llamado 'titulo'<br>\n",
    "Utilizando la funcion replace()."
   ]
  },
  {
   "cell_type": "code",
   "execution_count": 19,
   "metadata": {},
   "outputs": [
    {
     "name": "stdout",
     "output_type": "stream",
     "text": [
      " Experiences in Developing a Distributed Agent-based Modeling Toolkit with Python Version 3\n",
      "\n"
     ]
    }
   ],
   "source": [
    "titulo = separated_text[0].replace(\"título: \", \"\")\n",
    "\n",
    "print(titulo)"
   ]
  },
  {
   "cell_type": "markdown",
   "metadata": {},
   "source": [
    "Ahora me guardo el texto de resumen en una variable"
   ]
  },
  {
   "cell_type": "code",
   "execution_count": 20,
   "metadata": {},
   "outputs": [
    {
     "name": "stdout",
     "output_type": "stream",
     "text": [
      " Distributed agent-based modeling (ABM) on high-performance\n",
      "computing resources provides the promise of capturing unprecedented\n",
      "details of large-scale complex systems. However, the specialized\n",
      "knowledge required for developing such ABMs creates barriers to wider\n",
      "adoption and utilization. Here we present our experiences in\n",
      "developing an initial implementation of Repast4Py, a Python-based\n",
      "distributed ABM toolkit. We build on our experiences in developing ABM\n",
      "toolkits, including Repast for High Performance Computing (Repast\n",
      "HPC), to identify the key elements of a useful distributed ABM\n",
      "toolkit. We leverage the Numba, NumPy, and PyTorch packages and the\n",
      "Python C-API to create a scalable modeling system that can exploit the\n",
      "largest HPC resources and emerging computing architectures. \n"
     ]
    }
   ],
   "source": [
    "summary = separated_text[1]\n",
    "\n",
    "print(summary)"
   ]
  },
  {
   "cell_type": "markdown",
   "metadata": {},
   "source": [
    "Defino una función para verificar si el titulo cumple las especificaciones."
   ]
  },
  {
   "cell_type": "code",
   "execution_count": 21,
   "metadata": {},
   "outputs": [],
   "source": [
    "def check_title(titulo):\n",
    "    words_title = titulo.split()\n",
    "\n",
    "    #Excluyo los numeros de la oración\n",
    "    words_title = [word for word in words_title if not word.isdigit()]\n",
    "\n",
    "    if len(words_title) <= 10:\n",
    "        print(\"El titulo cumple con las especificaciones.\")\n",
    "    else:\n",
    "        print(\"El titulo no cumple con las especificaciones.\")"
   ]
  },
  {
   "cell_type": "markdown",
   "metadata": {},
   "source": [
    "Defino una funcion para contar las oraciones.<br>\n",
    "Creo un diccionario donde las keys llevan el nombre de cada una de las categorias."
   ]
  },
  {
   "cell_type": "code",
   "execution_count": 22,
   "metadata": {},
   "outputs": [],
   "source": [
    "def process_sentences(summary):\n",
    "    sentences = summary.split(\".\")\n",
    "\n",
    "    categories = {\n",
    "        \"Faciles de leer\": 0,\n",
    "        \"Aceptables para leer\": 0,\n",
    "        \"Dificiles de leer\": 0,\n",
    "        \"Muy dificiles de leer\": 0\n",
    "    }\n",
    "\n",
    "    for sentence in sentences:\n",
    "        words_sentence = sentence.split()\n",
    "\n",
    "        #Excluyo los numeros de la oración.\n",
    "        words_sentence = [word for word in words_sentence if not word.isdigit()]\n",
    "\n",
    "        num_words = len(words_sentence)\n",
    "\n",
    "        if num_words <= 12:\n",
    "            categories[\"Faciles de leer\"] += 1\n",
    "        \n",
    "        elif num_words <= 17:\n",
    "            categories[\"Aceptables para leer\"] += 1\n",
    "        \n",
    "        elif num_words <= 25:\n",
    "            categories[\"Dificiles de leer\"] += 1\n",
    "        \n",
    "        else:\n",
    "            categories[\"Muy dificiles de leer\"] += 1\n",
    "    \n",
    "    return categories\n",
    "\n"
   ]
  },
  {
   "cell_type": "markdown",
   "metadata": {},
   "source": [
    "Ahora llamo la funcion 'check_title' para verificar que el texto cumpla con las condiciones establecidas."
   ]
  },
  {
   "cell_type": "code",
   "execution_count": 23,
   "metadata": {},
   "outputs": [
    {
     "name": "stdout",
     "output_type": "stream",
     "text": [
      "ANALISIS DEL TITULO\n",
      "El titulo no cumple con las especificaciones.\n"
     ]
    }
   ],
   "source": [
    "print(\"ANALISIS DEL TITULO\")\n",
    "\n",
    "check_title(titulo)"
   ]
  },
  {
   "cell_type": "markdown",
   "metadata": {},
   "source": [
    "Ahora llamo a la funcion 'process_sentences' para procesar las oraciones y categorizarlas."
   ]
  },
  {
   "cell_type": "code",
   "execution_count": 24,
   "metadata": {},
   "outputs": [
    {
     "name": "stdout",
     "output_type": "stream",
     "text": [
      "ANALISIS DEL RESUMEN\n",
      "1 oraciones son Faciles de leer\n",
      "2 oraciones son Aceptables para leer\n",
      "1 oraciones son Dificiles de leer\n",
      "2 oraciones son Muy dificiles de leer\n"
     ]
    }
   ],
   "source": [
    "print(\"ANALISIS DEL RESUMEN\")\n",
    "\n",
    "categories = process_sentences(summary)\n",
    "\n",
    "for category, cant in categories.items():\n",
    "    print(f\"{cant} oraciones son {category}\")"
   ]
  }
 ],
 "metadata": {
  "kernelspec": {
   "display_name": "venv",
   "language": "python",
   "name": "python3"
  },
  "language_info": {
   "codemirror_mode": {
    "name": "ipython",
    "version": 3
   },
   "file_extension": ".py",
   "mimetype": "text/x-python",
   "name": "python",
   "nbconvert_exporter": "python",
   "pygments_lexer": "ipython3",
   "version": "3.11.8"
  }
 },
 "nbformat": 4,
 "nbformat_minor": 2
}
