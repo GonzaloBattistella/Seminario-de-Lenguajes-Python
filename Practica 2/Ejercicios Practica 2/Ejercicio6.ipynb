{
 "cells": [
  {
   "cell_type": "markdown",
   "metadata": {},
   "source": [
    "# Practica 2"
   ]
  },
  {
   "cell_type": "markdown",
   "metadata": {},
   "source": [
    "### Ejercicio 6 "
   ]
  },
  {
   "cell_type": "markdown",
   "metadata": {},
   "source": [
    "6. Dada una frase y un string ingresados por teclado (en ese orden), genere una lista de\n",
    "palabras, y sobre ella, informe la cantidad de palabras en las que se encuentra el\n",
    "string. No distingir entre mayúsculas y minúsculas\n"
   ]
  },
  {
   "cell_type": "markdown",
   "metadata": {},
   "source": [
    "Se solicita ingresar la frase y el string desde teclado."
   ]
  },
  {
   "cell_type": "code",
   "execution_count": 15,
   "metadata": {},
   "outputs": [
    {
     "name": "stdout",
     "output_type": "stream",
     "text": [
      "Tres tristes tigres, tragaban trigo en un trigal, en tres tristes trastos, tragaban trigo tres tristes tigres\n",
      "\n",
      " arbol\n"
     ]
    }
   ],
   "source": [
    "phrase = input(\"Ingrese una frase\")\n",
    "\n",
    "cadena = input(\"Ingrese una palabra\")\n",
    "\n",
    "print(phrase)\n",
    "\n",
    "print(\"\\n\", cadena)"
   ]
  },
  {
   "cell_type": "markdown",
   "metadata": {},
   "source": [
    "Limpio la frase de signos de puntuación."
   ]
  },
  {
   "cell_type": "code",
   "execution_count": 16,
   "metadata": {},
   "outputs": [
    {
     "name": "stdout",
     "output_type": "stream",
     "text": [
      "Tres tristes tigres tragaban trigo en un trigal en tres tristes trastos tragaban trigo tres tristes tigres\n"
     ]
    }
   ],
   "source": [
    "phrase = phrase.replace(\",\", \"\")\n",
    "\n",
    "print(phrase)"
   ]
  },
  {
   "cell_type": "markdown",
   "metadata": {},
   "source": [
    "Genero una lista de palabras a partir de la frase ingresada desde teclado."
   ]
  },
  {
   "cell_type": "code",
   "execution_count": 17,
   "metadata": {},
   "outputs": [
    {
     "name": "stdout",
     "output_type": "stream",
     "text": [
      "['Tres', 'tristes', 'tigres', 'tragaban', 'trigo', 'en', 'un', 'trigal', 'en', 'tres', 'tristes', 'trastos', 'tragaban', 'trigo', 'tres', 'tristes', 'tigres']\n"
     ]
    }
   ],
   "source": [
    "words = phrase.split()\n",
    "\n",
    "print(words)"
   ]
  },
  {
   "cell_type": "markdown",
   "metadata": {},
   "source": [
    "Recorro la lista de palabras y cuento cuantas veces aparece la palabra ingresada por teclado."
   ]
  },
  {
   "cell_type": "code",
   "execution_count": 18,
   "metadata": {},
   "outputs": [
    {
     "name": "stdout",
     "output_type": "stream",
     "text": [
      "La palabra ingresada no se encuentra en la frase.\n"
     ]
    }
   ],
   "source": [
    "repeated_times = 0\n",
    "\n",
    "for word in words:\n",
    "    if cadena.lower() == word.lower():\n",
    "        repeated_times += 1\n",
    "\n",
    "if repeated_times != 0:\n",
    "    print(f\"La palabra {cadena} se repite {repeated_times} veces en la frase.\")\n",
    "else:\n",
    "    print(\"La palabra ingresada no se encuentra en la frase.\")"
   ]
  }
 ],
 "metadata": {
  "kernelspec": {
   "display_name": "venv",
   "language": "python",
   "name": "python3"
  },
  "language_info": {
   "codemirror_mode": {
    "name": "ipython",
    "version": 3
   },
   "file_extension": ".py",
   "mimetype": "text/x-python",
   "name": "python",
   "nbconvert_exporter": "python",
   "pygments_lexer": "ipython3",
   "version": "3.11.8"
  }
 },
 "nbformat": 4,
 "nbformat_minor": 2
}
