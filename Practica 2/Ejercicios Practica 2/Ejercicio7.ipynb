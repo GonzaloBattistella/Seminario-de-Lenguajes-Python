{
 "cells": [
  {
   "cell_type": "markdown",
   "metadata": {},
   "source": [
    "# Practica 2"
   ]
  },
  {
   "cell_type": "markdown",
   "metadata": {},
   "source": [
    "### Ejercicio 7"
   ]
  },
  {
   "cell_type": "markdown",
   "metadata": {},
   "source": [
    "7. Dada una frase contar mayúsculas, minúsculas, caracteres no letras(numeros, signos de puntuación).\n"
   ]
  },
  {
   "cell_type": "code",
   "execution_count": 1,
   "metadata": {},
   "outputs": [],
   "source": [
    "text = \"\"\" La brecha salarial alcanzó el 27,7%: las mujeres ocupadas\n",
    "debieron trabajar 8 días y 10 horas más que los varones ocupados para\n",
    "ganar lo mismo que ellos en un mes. \"\"\""
   ]
  },
  {
   "cell_type": "markdown",
   "metadata": {},
   "source": [
    "Al texto le aplico la funcion split() para separarlo en palabras."
   ]
  },
  {
   "cell_type": "code",
   "execution_count": 2,
   "metadata": {},
   "outputs": [
    {
     "name": "stdout",
     "output_type": "stream",
     "text": [
      "['La', 'brecha', 'salarial', 'alcanzó', 'el', '27,7%:', 'las', 'mujeres', 'ocupadas', 'debieron', 'trabajar', '8', 'días', 'y', '10', 'horas', 'más', 'que', 'los', 'varones', 'ocupados', 'para', 'ganar', 'lo', 'mismo', 'que', 'ellos', 'en', 'un', 'mes.']\n"
     ]
    }
   ],
   "source": [
    "words = text.split()\n",
    "\n",
    "print(words)"
   ]
  },
  {
   "cell_type": "markdown",
   "metadata": {},
   "source": [
    "Creo un diccionario en el cual voy a ir contando las cantidad de letras m,ayusculas, minusculas y caracteres no letras."
   ]
  },
  {
   "cell_type": "code",
   "execution_count": 3,
   "metadata": {},
   "outputs": [],
   "source": [
    "counter_dictionary = {\n",
    "    \"mayusculas\": 0,\n",
    "    \"minusculas\": 0,\n",
    "    \"no letras\": 0 \n",
    "}"
   ]
  },
  {
   "cell_type": "markdown",
   "metadata": {},
   "source": [
    "Recorro la lista de palabras y con la funcion list() creo una lista de las palabras separadas por caracter, si es mayusculas la sumo a la keys \"Mayusculas\" del diccionario, lo mismo para las minusculas y los carcteres no letras."
   ]
  },
  {
   "cell_type": "code",
   "execution_count": 10,
   "metadata": {},
   "outputs": [
    {
     "name": "stdout",
     "output_type": "stream",
     "text": [
      "Mayusculas: 1\n",
      "Minusculas: 123\n",
      "No_letras: 10\n"
     ]
    }
   ],
   "source": [
    "dic = {\n",
    "    \"Mayusculas\": 0,\n",
    "    \"Minusculas\": 0,\n",
    "    \"No_letras\": 0\n",
    "}\n",
    "\n",
    "for word in  words:\n",
    "    letters = list(word)\n",
    "    for letter in letters:\n",
    "        if letter.isupper():\n",
    "            dic[\"Mayusculas\"] += 1\n",
    "        elif letter.islower():\n",
    "            dic[\"Minusculas\"] += 1\n",
    "        else:\n",
    "            dic[\"No_letras\"] += 1\n",
    "\n",
    "for tipo_letra, cantidad in dic.items():\n",
    "    print(f\"{tipo_letra}: {cantidad}\")"
   ]
  }
 ],
 "metadata": {
  "kernelspec": {
   "display_name": "venv",
   "language": "python",
   "name": "python3"
  },
  "language_info": {
   "codemirror_mode": {
    "name": "ipython",
    "version": 3
   },
   "file_extension": ".py",
   "mimetype": "text/x-python",
   "name": "python",
   "nbconvert_exporter": "python",
   "pygments_lexer": "ipython3",
   "version": "3.11.8"
  }
 },
 "nbformat": 4,
 "nbformat_minor": 2
}
