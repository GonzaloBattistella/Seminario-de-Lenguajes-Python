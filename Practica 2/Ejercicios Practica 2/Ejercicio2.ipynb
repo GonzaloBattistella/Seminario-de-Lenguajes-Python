{
 "cells": [
  {
   "cell_type": "markdown",
   "metadata": {},
   "source": [
    "# Practica 2 "
   ]
  },
  {
   "cell_type": "markdown",
   "metadata": {},
   "source": [
    "### Ejercicio 2 "
   ]
  },
  {
   "cell_type": "markdown",
   "metadata": {},
   "source": [
    "2. Indique la palabra con más de 4 caracteres que aparece mayor cantidad de veces en\n",
    "el texto del README.md de numpy. Copie y pegue el texto en una variable.\n"
   ]
  },
  {
   "cell_type": "markdown",
   "metadata": {},
   "source": [
    "Tomo el texto del archivo README.md de Numpy  y lo guardo en una variable."
   ]
  },
  {
   "cell_type": "code",
   "execution_count": 7,
   "metadata": {},
   "outputs": [],
   "source": [
    "text = \"\"\"NumPy es el paquete fundamental para la computación científica con Python.\n",
    "Proporciona:\n",
    "un potente objeto de matriz N-dimensional\n",
    "Funciones sofisticadas (de radiodifusión)\n",
    "herramientas para integrar código C/C++ y Fortran\n",
    "capacidades útiles de álgebra lineal, transformada de Fourier y números aleatorios\n",
    "Ensayo:\n",
    "Código de Conducta\n",
    "NumPy es un proyecto de código abierto impulsado por la comunidad desarrollado por un grupo diverso de colaboradores. El liderazgo de NumPy ha hecho una fuerte compromiso con la creación de una comunidad abierta, inclusiva y positiva. Por favor, lea el Código de Conducta de NumPy para obtener orientación sobre cómo interactuar con los demás de una manera que haga que nuestra comunidad prospere.\n",
    "Convocatoria de contribuciones\n",
    "¡El proyecto NumPy da la bienvenida a su experiencia y entusiasmo!\n",
    "Las pequeñas mejoras o correcciones siempre son apreciadas. Si está considerando contribuciones más grandes al código fuente, póngase en contacto con nosotros a través del correo lista primero.\n",
    "Escribir código no es la única forma de contribuir a NumPy. También puedes:\n",
    "Revisar las solicitudes de incorporación de cambios\n",
    "Ayúdanos a estar al tanto de los problemas nuevos y antiguos\n",
    "Desarrollar tutoriales, presentaciones y otros materiales educativos\n",
    "Mantener y mejorar nuestro sitio web\n",
    "Desarrollar el diseño gráfico de los activos de nuestra marca y los materiales promocionales\n",
    "Traducir el contenido del sitio web\n",
    "Ayuda con la divulgación e incorporación de nuevos colaboradores\n",
    "Escribir propuestas de subvenciones y ayudar con otros esfuerzos de recaudación de fondos\n",
    "Para obtener más información sobre las formas en que puede contribuir a NumPy, visite nuestro sitio web. Si no estás seguro de por dónde empezar o cómo encajan tus habilidades, ¡comunícate con nosotros! Puedes preguntar en la lista de correo o aquí, en GitHub, abriendo un nuevo problema o dejando un Comentar sobre un tema relevante que ya esté abierto.\n",
    "Nuestros canales de comunicación preferidos son todos públicos, pero si lo deseas habla con nosotros en privado primero, comunícate con nuestros coordinadores de la comunidad en numpy-team@googlegroups.com o en Slack (escribe numpy-team@googlegroups.com para una invitación).\n",
    "También tenemos una llamada comunitaria quincenal, cuyos detalles se anuncian en el lista de correo. Le invitamos a unirse.\n",
    "Si eres nuevo en la contribución al código abierto, este ayuda a explicar por qué, qué, y cómo involucrarse con éxito.\"\"\""
   ]
  },
  {
   "cell_type": "markdown",
   "metadata": {},
   "source": [
    "A la variable text, le aplico la funcion split para separar en palabras."
   ]
  },
  {
   "cell_type": "code",
   "execution_count": 8,
   "metadata": {},
   "outputs": [
    {
     "name": "stdout",
     "output_type": "stream",
     "text": [
      "['NumPy', 'es', 'el', 'paquete', 'fundamental', 'para', 'la', 'computación', 'científica', 'con', 'Python.', 'Proporciona:', 'un', 'potente', 'objeto', 'de', 'matriz', 'N-dimensional', 'Funciones', 'sofisticadas', '(de', 'radiodifusión)', 'herramientas', 'para', 'integrar', 'código', 'C/C++', 'y', 'Fortran', 'capacidades', 'útiles', 'de', 'álgebra', 'lineal,', 'transformada', 'de', 'Fourier', 'y', 'números', 'aleatorios', 'Ensayo:', 'Código', 'de', 'Conducta', 'NumPy', 'es', 'un', 'proyecto', 'de', 'código', 'abierto', 'impulsado', 'por', 'la', 'comunidad', 'desarrollado', 'por', 'un', 'grupo', 'diverso', 'de', 'colaboradores.', 'El', 'liderazgo', 'de', 'NumPy', 'ha', 'hecho', 'una', 'fuerte', 'compromiso', 'con', 'la', 'creación', 'de', 'una', 'comunidad', 'abierta,', 'inclusiva', 'y', 'positiva.', 'Por', 'favor,', 'lea', 'el', 'Código', 'de', 'Conducta', 'de', 'NumPy', 'para', 'obtener', 'orientación', 'sobre', 'cómo', 'interactuar', 'con', 'los', 'demás', 'de', 'una', 'manera', 'que', 'haga', 'que', 'nuestra', 'comunidad', 'prospere.', 'Convocatoria', 'de', 'contribuciones', '¡El', 'proyecto', 'NumPy', 'da', 'la', 'bienvenida', 'a', 'su', 'experiencia', 'y', 'entusiasmo!', 'Las', 'pequeñas', 'mejoras', 'o', 'correcciones', 'siempre', 'son', 'apreciadas.', 'Si', 'está', 'considerando', 'contribuciones', 'más', 'grandes', 'al', 'código', 'fuente,', 'póngase', 'en', 'contacto', 'con', 'nosotros', 'a', 'través', 'del', 'correo', 'lista', 'primero.', 'Escribir', 'código', 'no', 'es', 'la', 'única', 'forma', 'de', 'contribuir', 'a', 'NumPy.', 'También', 'puedes:', 'Revisar', 'las', 'solicitudes', 'de', 'incorporación', 'de', 'cambios', 'Ayúdanos', 'a', 'estar', 'al', 'tanto', 'de', 'los', 'problemas', 'nuevos', 'y', 'antiguos', 'Desarrollar', 'tutoriales,', 'presentaciones', 'y', 'otros', 'materiales', 'educativos', 'Mantener', 'y', 'mejorar', 'nuestro', 'sitio', 'web', 'Desarrollar', 'el', 'diseño', 'gráfico', 'de', 'los', 'activos', 'de', 'nuestra', 'marca', 'y', 'los', 'materiales', 'promocionales', 'Traducir', 'el', 'contenido', 'del', 'sitio', 'web', 'Ayuda', 'con', 'la', 'divulgación', 'e', 'incorporación', 'de', 'nuevos', 'colaboradores', 'Escribir', 'propuestas', 'de', 'subvenciones', 'y', 'ayudar', 'con', 'otros', 'esfuerzos', 'de', 'recaudación', 'de', 'fondos', 'Para', 'obtener', 'más', 'información', 'sobre', 'las', 'formas', 'en', 'que', 'puede', 'contribuir', 'a', 'NumPy,', 'visite', 'nuestro', 'sitio', 'web.', 'Si', 'no', 'estás', 'seguro', 'de', 'por', 'dónde', 'empezar', 'o', 'cómo', 'encajan', 'tus', 'habilidades,', '¡comunícate', 'con', 'nosotros!', 'Puedes', 'preguntar', 'en', 'la', 'lista', 'de', 'correo', 'o', 'aquí,', 'en', 'GitHub,', 'abriendo', 'un', 'nuevo', 'problema', 'o', 'dejando', 'un', 'Comentar', 'sobre', 'un', 'tema', 'relevante', 'que', 'ya', 'esté', 'abierto.', 'Nuestros', 'canales', 'de', 'comunicación', 'preferidos', 'son', 'todos', 'públicos,', 'pero', 'si', 'lo', 'deseas', 'habla', 'con', 'nosotros', 'en', 'privado', 'primero,', 'comunícate', 'con', 'nuestros', 'coordinadores', 'de', 'la', 'comunidad', 'en', 'numpy-team@googlegroups.com', 'o', 'en', 'Slack', '(escribe', 'numpy-team@googlegroups.com', 'para', 'una', 'invitación).', 'También', 'tenemos', 'una', 'llamada', 'comunitaria', 'quincenal,', 'cuyos', 'detalles', 'se', 'anuncian', 'en', 'el', 'lista', 'de', 'correo.', 'Le', 'invitamos', 'a', 'unirse.', 'Si', 'eres', 'nuevo', 'en', 'la', 'contribución', 'al', 'código', 'abierto,', 'este', 'ayuda', 'a', 'explicar', 'por', 'qué,', 'qué,', 'y', 'cómo', 'involucrarse', 'con', 'éxito.']\n"
     ]
    }
   ],
   "source": [
    "words = text.split()\n",
    "\n",
    "print(words)"
   ]
  },
  {
   "cell_type": "markdown",
   "metadata": {},
   "source": [
    "A la lista de palabras le aplico la funcion counter, que cuenta la palabras con mas ocurrencias en el texto, devuelve un diccionario."
   ]
  },
  {
   "cell_type": "code",
   "execution_count": 9,
   "metadata": {},
   "outputs": [
    {
     "name": "stdout",
     "output_type": "stream",
     "text": [
      "Counter({'de': 27, 'con': 10, 'y': 10, 'la': 9, 'en': 9, 'a': 7, 'un': 6, 'NumPy': 5, 'el': 5, 'código': 5, 'una': 5, 'o': 5, 'para': 4, 'por': 4, 'comunidad': 4, 'los': 4, 'que': 4, 'es': 3, 'sobre': 3, 'cómo': 3, 'Si': 3, 'al': 3, 'lista': 3, 'sitio': 3, 'Código': 2, 'Conducta': 2, 'proyecto': 2, 'obtener': 2, 'nuestra': 2, 'contribuciones': 2, 'son': 2, 'más': 2, 'nosotros': 2, 'del': 2, 'correo': 2, 'Escribir': 2, 'no': 2, 'contribuir': 2, 'También': 2, 'las': 2, 'incorporación': 2, 'nuevos': 2, 'Desarrollar': 2, 'otros': 2, 'materiales': 2, 'nuestro': 2, 'web': 2, 'nuevo': 2, 'numpy-team@googlegroups.com': 2, 'qué,': 2, 'paquete': 1, 'fundamental': 1, 'computación': 1, 'científica': 1, 'Python.': 1, 'Proporciona:': 1, 'potente': 1, 'objeto': 1, 'matriz': 1, 'N-dimensional': 1, 'Funciones': 1, 'sofisticadas': 1, '(de': 1, 'radiodifusión)': 1, 'herramientas': 1, 'integrar': 1, 'C/C++': 1, 'Fortran': 1, 'capacidades': 1, 'útiles': 1, 'álgebra': 1, 'lineal,': 1, 'transformada': 1, 'Fourier': 1, 'números': 1, 'aleatorios': 1, 'Ensayo:': 1, 'abierto': 1, 'impulsado': 1, 'desarrollado': 1, 'grupo': 1, 'diverso': 1, 'colaboradores.': 1, 'El': 1, 'liderazgo': 1, 'ha': 1, 'hecho': 1, 'fuerte': 1, 'compromiso': 1, 'creación': 1, 'abierta,': 1, 'inclusiva': 1, 'positiva.': 1, 'Por': 1, 'favor,': 1, 'lea': 1, 'orientación': 1, 'interactuar': 1, 'demás': 1, 'manera': 1, 'haga': 1, 'prospere.': 1, 'Convocatoria': 1, '¡El': 1, 'da': 1, 'bienvenida': 1, 'su': 1, 'experiencia': 1, 'entusiasmo!': 1, 'Las': 1, 'pequeñas': 1, 'mejoras': 1, 'correcciones': 1, 'siempre': 1, 'apreciadas.': 1, 'está': 1, 'considerando': 1, 'grandes': 1, 'fuente,': 1, 'póngase': 1, 'contacto': 1, 'través': 1, 'primero.': 1, 'única': 1, 'forma': 1, 'NumPy.': 1, 'puedes:': 1, 'Revisar': 1, 'solicitudes': 1, 'cambios': 1, 'Ayúdanos': 1, 'estar': 1, 'tanto': 1, 'problemas': 1, 'antiguos': 1, 'tutoriales,': 1, 'presentaciones': 1, 'educativos': 1, 'Mantener': 1, 'mejorar': 1, 'diseño': 1, 'gráfico': 1, 'activos': 1, 'marca': 1, 'promocionales': 1, 'Traducir': 1, 'contenido': 1, 'Ayuda': 1, 'divulgación': 1, 'e': 1, 'colaboradores': 1, 'propuestas': 1, 'subvenciones': 1, 'ayudar': 1, 'esfuerzos': 1, 'recaudación': 1, 'fondos': 1, 'Para': 1, 'información': 1, 'formas': 1, 'puede': 1, 'NumPy,': 1, 'visite': 1, 'web.': 1, 'estás': 1, 'seguro': 1, 'dónde': 1, 'empezar': 1, 'encajan': 1, 'tus': 1, 'habilidades,': 1, '¡comunícate': 1, 'nosotros!': 1, 'Puedes': 1, 'preguntar': 1, 'aquí,': 1, 'GitHub,': 1, 'abriendo': 1, 'problema': 1, 'dejando': 1, 'Comentar': 1, 'tema': 1, 'relevante': 1, 'ya': 1, 'esté': 1, 'abierto.': 1, 'Nuestros': 1, 'canales': 1, 'comunicación': 1, 'preferidos': 1, 'todos': 1, 'públicos,': 1, 'pero': 1, 'si': 1, 'lo': 1, 'deseas': 1, 'habla': 1, 'privado': 1, 'primero,': 1, 'comunícate': 1, 'nuestros': 1, 'coordinadores': 1, 'Slack': 1, '(escribe': 1, 'invitación).': 1, 'tenemos': 1, 'llamada': 1, 'comunitaria': 1, 'quincenal,': 1, 'cuyos': 1, 'detalles': 1, 'se': 1, 'anuncian': 1, 'correo.': 1, 'Le': 1, 'invitamos': 1, 'unirse.': 1, 'eres': 1, 'contribución': 1, 'abierto,': 1, 'este': 1, 'ayuda': 1, 'explicar': 1, 'involucrarse': 1, 'éxito.': 1})\n"
     ]
    }
   ],
   "source": [
    "from collections import Counter\n",
    "\n",
    "words_more_repeated = Counter(words)\n",
    "\n",
    "print(words_more_repeated)"
   ]
  },
  {
   "cell_type": "markdown",
   "metadata": {},
   "source": [
    "Dentro de la estructura que devuelve la funcion counter. <br>\n",
    "Busco la primer palabra con mas ocurrencias, de mas de 4 caracteres."
   ]
  },
  {
   "cell_type": "code",
   "execution_count": 10,
   "metadata": {},
   "outputs": [
    {
     "name": "stdout",
     "output_type": "stream",
     "text": [
      "La palabra que mas se repite es: NumPy con 5 repeticioness\n"
     ]
    }
   ],
   "source": [
    "for keys in words_more_repeated:\n",
    "    if len(keys) > 4:\n",
    "        print(f\"La palabra que mas se repite es: {keys} con {words_more_repeated[keys]} repeticioness\")\n",
    "        break"
   ]
  }
 ],
 "metadata": {
  "kernelspec": {
   "display_name": "venv",
   "language": "python",
   "name": "python3"
  },
  "language_info": {
   "codemirror_mode": {
    "name": "ipython",
    "version": 3
   },
   "file_extension": ".py",
   "mimetype": "text/x-python",
   "name": "python",
   "nbconvert_exporter": "python",
   "pygments_lexer": "ipython3",
   "version": "3.11.8"
  }
 },
 "nbformat": 4,
 "nbformat_minor": 2
}
