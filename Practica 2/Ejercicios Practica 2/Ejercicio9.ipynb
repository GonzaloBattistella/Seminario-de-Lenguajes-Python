{
 "cells": [
  {
   "cell_type": "markdown",
   "metadata": {},
   "source": [
    "# Practica 2 "
   ]
  },
  {
   "cell_type": "markdown",
   "metadata": {},
   "source": [
    "### Ejercicio 9 "
   ]
  },
  {
   "cell_type": "markdown",
   "metadata": {},
   "source": [
    "9. Escriba un programa que solicite por teclado una palabra y calcule el valor de la misma\n",
    "dada la siguiente tabla de valores del juego Scrabble:<br>\n",
    "Letra valor: <br>\n",
    "A, E, I, O, U, L, N, R, S, T= 1.<br>\n",
    "D, G= 2.<br>\n",
    "B, C, M, P= 3.<br>\n",
    "F, H, V, W, Y= 4.<br>\n",
    "K= 5.<br>\n",
    "J, X= 8.<br>\n",
    "Q, Z= 10.<br>"
   ]
  },
  {
   "cell_type": "code",
   "execution_count": 1,
   "metadata": {},
   "outputs": [
    {
     "name": "stdout",
     "output_type": "stream",
     "text": [
      "peludo\n"
     ]
    }
   ],
   "source": [
    "palabra = input(\"Ingrese una palabra\")\n",
    "\n",
    "print(palabra)"
   ]
  },
  {
   "cell_type": "markdown",
   "metadata": {},
   "source": [
    "Creo la estructura para almacenar los valores."
   ]
  },
  {
   "cell_type": "code",
   "execution_count": 2,
   "metadata": {},
   "outputs": [],
   "source": [
    "dic_values = {\n",
    "    \"1\": [\"a\",\"e\",\"i\",\"o\",\"u\",\"l\",\"n\",\"r\",\"s\",\"t\"],\n",
    "    \"2\": [\"d\",\"g\"],\n",
    "    \"3\": [\"b\",\"c\",\"m\",\"p\"],\n",
    "    \"4\": [\"f\",\"h\",\"v\",\"w\",\"y\"],\n",
    "    \"5\": [\"k\"],\n",
    "    \"8\": [\"j\",\"x\"],\n",
    "    \"10\": [\"q\",\"z\"]\n",
    "}"
   ]
  },
  {
   "cell_type": "markdown",
   "metadata": {},
   "source": [
    "Procesamos la palabra y calculamos el valor."
   ]
  },
  {
   "cell_type": "code",
   "execution_count": 3,
   "metadata": {},
   "outputs": [
    {
     "name": "stdout",
     "output_type": "stream",
     "text": [
      "El valor total de la palabra peludo es: 9\n"
     ]
    }
   ],
   "source": [
    "total_value = 0\n",
    "\n",
    "for character in palabra:\n",
    "    if character in dic_values[\"1\"]:\n",
    "        total_value += 1\n",
    "    elif character in dic_values[\"2\"]:\n",
    "        total_value += 2\n",
    "    elif character in dic_values[\"3\"]:\n",
    "        total_value += 3\n",
    "    elif character in dic_values[\"4\"]:\n",
    "        total_value += 4\n",
    "    elif character in dic_values[\"5\"]:\n",
    "        total_value += 5\n",
    "    elif character in dic_values[\"8\"]:\n",
    "        total_value += 8\n",
    "    else: \n",
    "        if character in dic_values[\"10\"]:\n",
    "            total_value += 10\n",
    "\n",
    "print(f\"El valor total de la palabra {palabra} es: {total_value}\")"
   ]
  }
 ],
 "metadata": {
  "kernelspec": {
   "display_name": "venv",
   "language": "python",
   "name": "python3"
  },
  "language_info": {
   "codemirror_mode": {
    "name": "ipython",
    "version": 3
   },
   "file_extension": ".py",
   "mimetype": "text/x-python",
   "name": "python",
   "nbconvert_exporter": "python",
   "pygments_lexer": "ipython3",
   "version": "3.11.8"
  }
 },
 "nbformat": 4,
 "nbformat_minor": 2
}
