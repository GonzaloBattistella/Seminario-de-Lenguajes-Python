{
 "cells": [
  {
   "cell_type": "markdown",
   "metadata": {},
   "source": [
    "# Practica 2 "
   ]
  },
  {
   "cell_type": "markdown",
   "metadata": {},
   "source": [
    "### Ejercicio 8 "
   ]
  },
  {
   "cell_type": "markdown",
   "metadata": {},
   "source": [
    "8. Escriba un programa que solicite que se ingrese una palabra o frase y permita\n",
    "identificar si la misma es un Heterograma (tenga en cuenta que el contenido del enlace\n",
    "es una traducción del inglés por lo cual las palabras que nombra no son heterogramas\n",
    "en español). Un Heterograma es una palabra o frase que no tiene ninguna letra\n",
    "repetida entre sus caracteres.\n",
    "Tener en cuenta:\n",
    "Lo que no se puede repetir en la frase son sólo aquellos caracteres que sean\n",
    "letras.\n",
    "No se distingue entre mayúsculas y minúsculas, es decir si en la frase o palabra\n",
    "tenemos la letra \"T\" y la letra \"t\" la misma NO será un Hererograma.\n",
    "Para simplificar el ejercicio vamos a tomar como que las letras con tilde y sin tilde\n",
    "son distintas. Ya que Python las diferencia:"
   ]
  },
  {
   "cell_type": "code",
   "execution_count": 8,
   "metadata": {},
   "outputs": [
    {
     "name": "stdout",
     "output_type": "stream",
     "text": [
      "no-se-duplica\n"
     ]
    }
   ],
   "source": [
    "cadena = input(\"Ingrese una frase o palabra\")\n",
    "\n",
    "print(cadena)"
   ]
  },
  {
   "cell_type": "markdown",
   "metadata": {},
   "source": [
    "Creo una funcion que determina si la palabra o frase es heterogama, si lo es retorna true, de lo contario retorna false."
   ]
  },
  {
   "cell_type": "code",
   "execution_count": 9,
   "metadata": {},
   "outputs": [],
   "source": [
    "def isHeterogama(cadena):\n",
    "    \n",
    "    cadena = cadena.lower()\n",
    "\n",
    "    char_unicos = []\n",
    "\n",
    "    for character in cadena:\n",
    "\n",
    "        # Verifica si el caracter es una letra.\n",
    "        if character.isalpha():\n",
    "            if character in char_unicos:\n",
    "                return False\n",
    "            char_unicos.append(character)\n",
    "    \n",
    "    return True"
   ]
  },
  {
   "cell_type": "markdown",
   "metadata": {},
   "source": [
    "Llamamos a la funcion para verificar si la palabra ingresada es un Heterogama."
   ]
  },
  {
   "cell_type": "code",
   "execution_count": 10,
   "metadata": {},
   "outputs": [
    {
     "name": "stdout",
     "output_type": "stream",
     "text": [
      "La palabra o frase ingresada en un Heterogama\n"
     ]
    }
   ],
   "source": [
    "if isHeterogama(cadena):\n",
    "    print(\"La palabra o frase ingresada en un Heterogama\")\n",
    "else:\n",
    "    print(\"La palabra o frase ingresada NO es un Heterogama\")"
   ]
  }
 ],
 "metadata": {
  "kernelspec": {
   "display_name": "venv",
   "language": "python",
   "name": "python3"
  },
  "language_info": {
   "codemirror_mode": {
    "name": "ipython",
    "version": 3
   },
   "file_extension": ".py",
   "mimetype": "text/x-python",
   "name": "python",
   "nbconvert_exporter": "python",
   "pygments_lexer": "ipython3",
   "version": "3.11.8"
  }
 },
 "nbformat": 4,
 "nbformat_minor": 2
}
