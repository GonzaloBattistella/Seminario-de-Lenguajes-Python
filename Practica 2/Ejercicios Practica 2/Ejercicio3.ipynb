{
 "cells": [
  {
   "cell_type": "markdown",
   "metadata": {},
   "source": [
    "# Practica 2"
   ]
  },
  {
   "cell_type": "markdown",
   "metadata": {},
   "source": [
    "### Ejercicio 3"
   ]
  },
  {
   "cell_type": "markdown",
   "metadata": {},
   "source": [
    "Dado el siguiente texto guardado en la varible jupyter_info, solicite por teclado una\n",
    "letra e imprima las palabras que contengan dicha letra. En caso que no se haya\n",
    "ingresado un letra, indique el error.\n",
    "\n",
    "jupyter_info = \"\"\" JupyterLab is a web-based interactive development\n",
    "environment for Jupyter notebooks, code, and data. JupyterLab is\n",
    "flexible: configure and arrange the user interface to support a wide\n",
    "range of workflows in data science, scientific computing, and machine\n",
    "learning. JupyterLab is extensible and modular: write plugins that add\n",
    "new components and integrate with existing ones. \"\"\""
   ]
  },
  {
   "cell_type": "markdown",
   "metadata": {},
   "source": [
    "Guardamos el texto de jupyter_info en una variable."
   ]
  },
  {
   "cell_type": "code",
   "execution_count": 11,
   "metadata": {},
   "outputs": [],
   "source": [
    "texto = \"\"\" JupyterLab is a web-based interactive development\n",
    "environment for Jupyter notebooks, code, and data. JupyterLab is\n",
    "flexible: configure and arrange the user interface to support a wide\n",
    "range of workflows in data science, scientific computing, and machine\n",
    "learning. JupyterLab is extensible and modular: write plugins that add\n",
    "new components and integrate with existing ones. \"\"\""
   ]
  },
  {
   "cell_type": "markdown",
   "metadata": {},
   "source": [
    "Aplicamos a la variable texto la funcion split(), para separar el texto en palabras."
   ]
  },
  {
   "cell_type": "code",
   "execution_count": 12,
   "metadata": {},
   "outputs": [
    {
     "name": "stdout",
     "output_type": "stream",
     "text": [
      "['JupyterLab', 'is', 'a', 'web-based', 'interactive', 'development', 'environment', 'for', 'Jupyter', 'notebooks,', 'code,', 'and', 'data.', 'JupyterLab', 'is', 'flexible:', 'configure', 'and', 'arrange', 'the', 'user', 'interface', 'to', 'support', 'a', 'wide', 'range', 'of', 'workflows', 'in', 'data', 'science,', 'scientific', 'computing,', 'and', 'machine', 'learning.', 'JupyterLab', 'is', 'extensible', 'and', 'modular:', 'write', 'plugins', 'that', 'add', 'new', 'components', 'and', 'integrate', 'with', 'existing', 'ones.']\n"
     ]
    }
   ],
   "source": [
    "words = texto.split()\n",
    "\n",
    "print(words)"
   ]
  },
  {
   "cell_type": "markdown",
   "metadata": {},
   "source": [
    "Le pido al usuario que ingrese una letra."
   ]
  },
  {
   "cell_type": "code",
   "execution_count": 13,
   "metadata": {},
   "outputs": [
    {
     "name": "stdout",
     "output_type": "stream",
     "text": [
      "Error, Por Favor ingrese una letra.\n",
      "t\n"
     ]
    }
   ],
   "source": [
    "while True:\n",
    "    letter = input(\"Ingrese una letra\")\n",
    "\n",
    "    if letter == \"\":\n",
    "        print(\"Error, Por Favor ingrese una letra.\")\n",
    "    else:\n",
    "        break\n",
    "\n",
    "print(letter)"
   ]
  },
  {
   "cell_type": "markdown",
   "metadata": {},
   "source": [
    "Dentro de la lista con las palabras, imprimo las palabras que contengan la letra ingresada por el usuario."
   ]
  },
  {
   "cell_type": "code",
   "execution_count": 14,
   "metadata": {},
   "outputs": [
    {
     "name": "stdout",
     "output_type": "stream",
     "text": [
      "['JupyterLab', 'interactive', 'development', 'environment', 'Jupyter', 'notebooks,', 'data.', 'JupyterLab', 'the', 'interface', 'to', 'support', 'data', 'scientific', 'computing,', 'JupyterLab', 'extensible', 'write', 'that', 'components', 'integrate', 'with', 'existing']\n"
     ]
    }
   ],
   "source": [
    "words_with_letter = []\n",
    "\n",
    "for word in words:\n",
    "    if letter in word:\n",
    "        words_with_letter.append(word)\n",
    "\n",
    "print(words_with_letter)"
   ]
  }
 ],
 "metadata": {
  "kernelspec": {
   "display_name": "venv",
   "language": "python",
   "name": "python3"
  },
  "language_info": {
   "codemirror_mode": {
    "name": "ipython",
    "version": 3
   },
   "file_extension": ".py",
   "mimetype": "text/x-python",
   "name": "python",
   "nbconvert_exporter": "python",
   "pygments_lexer": "ipython3",
   "version": "3.11.8"
  }
 },
 "nbformat": 4,
 "nbformat_minor": 2
}
