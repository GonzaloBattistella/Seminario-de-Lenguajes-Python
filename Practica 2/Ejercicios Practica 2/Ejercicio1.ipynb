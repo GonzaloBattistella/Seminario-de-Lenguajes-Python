{
 "cells": [
  {
   "cell_type": "markdown",
   "metadata": {},
   "source": [
    "# Practica 2 "
   ]
  },
  {
   "cell_type": "markdown",
   "metadata": {},
   "source": [
    "### Ejercicio 1 "
   ]
  },
  {
   "cell_type": "markdown",
   "metadata": {},
   "source": [
    "1. Tomando el texto del README.md de numpy, copiar y pegar el texto en una variable,\n",
    "luego imprima todas las líneas cuya segunda palabra comience con una vocal (A, E, I,\n",
    "O, U, a, e, i, o, u)"
   ]
  },
  {
   "cell_type": "markdown",
   "metadata": {},
   "source": [
    "Tomo el texto del README.MD de Numpy y lo guardo en una variable."
   ]
  },
  {
   "cell_type": "code",
   "execution_count": 12,
   "metadata": {},
   "outputs": [],
   "source": [
    "texto = \"\"\"NumPy es el paquete fundamental para la computación científica con Python.\n",
    "Proporciona:\n",
    "un potente objeto de matriz N-dimensional\n",
    "Funciones sofisticadas (de radiodifusión)\n",
    "herramientas para integrar código C/C++ y Fortran\n",
    "capacidades útiles de álgebra lineal, transformada de Fourier y números aleatorios\n",
    "Ensayo:\n",
    "Código de Conducta\n",
    "NumPy es un proyecto de código abierto impulsado por la comunidad desarrollado por un grupo diverso de colaboradores. El liderazgo de NumPy ha hecho una fuerte compromiso con la creación de una comunidad abierta, inclusiva y positiva. Por favor, lea el Código de Conducta de NumPy para obtener orientación sobre cómo interactuar con los demás de una manera que haga que nuestra comunidad prospere.\n",
    "Convocatoria de contribuciones\n",
    "¡El proyecto NumPy da la bienvenida a su experiencia y entusiasmo!\n",
    "Las pequeñas mejoras o correcciones siempre son apreciadas. Si está considerando contribuciones más grandes al código fuente, póngase en contacto con nosotros a través del correo lista primero.\n",
    "Escribir código no es la única forma de contribuir a NumPy. También puedes:\n",
    "Revisar las solicitudes de incorporación de cambios\n",
    "Ayúdanos a estar al tanto de los problemas nuevos y antiguos\n",
    "Desarrollar tutoriales, presentaciones y otros materiales educativos\n",
    "Mantener y mejorar nuestro sitio web\n",
    "Desarrollar el diseño gráfico de los activos de nuestra marca y los materiales promocionales\n",
    "Traducir el contenido del sitio web\n",
    "Ayuda con la divulgación e incorporación de nuevos colaboradores\n",
    "Escribir propuestas de subvenciones y ayudar con otros esfuerzos de recaudación de fondos\n",
    "Para obtener más información sobre las formas en que puede contribuir a NumPy, visite nuestro sitio web. Si no estás seguro de por dónde empezar o cómo encajan tus habilidades, ¡comunícate con nosotros! Puedes preguntar en la lista de correo o aquí, en GitHub, abriendo un nuevo problema o dejando un Comentar sobre un tema relevante que ya esté abierto.\n",
    "Nuestros canales de comunicación preferidos son todos públicos, pero si lo deseas habla con nosotros en privado primero, comunícate con nuestros coordinadores de la comunidad en numpy-team@googlegroups.com o en Slack (escribe numpy-team@googlegroups.com para una invitación).\n",
    "También tenemos una llamada comunitaria quincenal, cuyos detalles se anuncian en el lista de correo. Le invitamos a unirse.\n",
    "Si eres nuevo en la contribución al código abierto, este ayuda a explicar por qué, qué, y cómo involucrarse con éxito.\"\"\""
   ]
  },
  {
   "cell_type": "markdown",
   "metadata": {},
   "source": [
    "Dividimos el texto en lineas.<br> \n",
    "La funcion strip(), quita los espacios en blanco al principio y al final de la linea.<br> \n",
    "La funcion split(), divide una cadena (string) en una lista de subcadenas (substrings) basadas en un separador especificado, en este caso el salto de linea (\"\\n\") pasado como parametro. "
   ]
  },
  {
   "cell_type": "code",
   "execution_count": 13,
   "metadata": {},
   "outputs": [
    {
     "name": "stdout",
     "output_type": "stream",
     "text": [
      "['NumPy es el paquete fundamental para la computación científica con Python.', 'Proporciona:', 'un potente objeto de matriz N-dimensional', 'Funciones sofisticadas (de radiodifusión)', 'herramientas para integrar código C/C++ y Fortran', 'capacidades útiles de álgebra lineal, transformada de Fourier y números aleatorios', 'Ensayo:', 'Código de Conducta', 'NumPy es un proyecto de código abierto impulsado por la comunidad desarrollado por un grupo diverso de colaboradores. El liderazgo de NumPy ha hecho una fuerte compromiso con la creación de una comunidad abierta, inclusiva y positiva. Por favor, lea el Código de Conducta de NumPy para obtener orientación sobre cómo interactuar con los demás de una manera que haga que nuestra comunidad prospere.', 'Convocatoria de contribuciones', '¡El proyecto NumPy da la bienvenida a su experiencia y entusiasmo!', 'Las pequeñas mejoras o correcciones siempre son apreciadas. Si está considerando contribuciones más grandes al código fuente, póngase en contacto con nosotros a través del correo lista primero.', 'Escribir código no es la única forma de contribuir a NumPy. También puedes:', 'Revisar las solicitudes de incorporación de cambios', 'Ayúdanos a estar al tanto de los problemas nuevos y antiguos', 'Desarrollar tutoriales, presentaciones y otros materiales educativos', 'Mantener y mejorar nuestro sitio web', 'Desarrollar el diseño gráfico de los activos de nuestra marca y los materiales promocionales', 'Traducir el contenido del sitio web', 'Ayuda con la divulgación e incorporación de nuevos colaboradores', 'Escribir propuestas de subvenciones y ayudar con otros esfuerzos de recaudación de fondos', 'Para obtener más información sobre las formas en que puede contribuir a NumPy, visite nuestro sitio web. Si no estás seguro de por dónde empezar o cómo encajan tus habilidades, ¡comunícate con nosotros! Puedes preguntar en la lista de correo o aquí, en GitHub, abriendo un nuevo problema o dejando un Comentar sobre un tema relevante que ya esté abierto.', 'Nuestros canales de comunicación preferidos son todos públicos, pero si lo deseas habla con nosotros en privado primero, comunícate con nuestros coordinadores de la comunidad en numpy-team@googlegroups.com o en Slack (escribe numpy-team@googlegroups.com para una invitación).', 'También tenemos una llamada comunitaria quincenal, cuyos detalles se anuncian en el lista de correo. Le invitamos a unirse.', 'Si eres nuevo en la contribución al código abierto, este ayuda a explicar por qué, qué, y cómo involucrarse con éxito.']\n"
     ]
    }
   ],
   "source": [
    "lineas = texto.strip().split('\\n')\n",
    "\n",
    "print(lineas)"
   ]
  },
  {
   "cell_type": "markdown",
   "metadata": {},
   "source": [
    "Definimos una funcion para verificar si una palabra empieza con una vocal."
   ]
  },
  {
   "cell_type": "code",
   "execution_count": 14,
   "metadata": {},
   "outputs": [],
   "source": [
    "def emp_with_vowel(palabra):\n",
    "    return palabra[0].lower() in ['a','e','i','o','u']"
   ]
  },
  {
   "cell_type": "markdown",
   "metadata": {},
   "source": [
    "Recorremos la lista de lineas y si la segunda palabra empieza con una vocal, imprimo dicha linea."
   ]
  },
  {
   "cell_type": "code",
   "execution_count": 15,
   "metadata": {},
   "outputs": [
    {
     "name": "stdout",
     "output_type": "stream",
     "text": [
      "NumPy es el paquete fundamental para la computación científica con Python.\n",
      "NumPy es un proyecto de código abierto impulsado por la comunidad desarrollado por un grupo diverso de colaboradores. El liderazgo de NumPy ha hecho una fuerte compromiso con la creación de una comunidad abierta, inclusiva y positiva. Por favor, lea el Código de Conducta de NumPy para obtener orientación sobre cómo interactuar con los demás de una manera que haga que nuestra comunidad prospere.\n",
      "Ayúdanos a estar al tanto de los problemas nuevos y antiguos\n",
      "Desarrollar el diseño gráfico de los activos de nuestra marca y los materiales promocionales\n",
      "Traducir el contenido del sitio web\n",
      "Para obtener más información sobre las formas en que puede contribuir a NumPy, visite nuestro sitio web. Si no estás seguro de por dónde empezar o cómo encajan tus habilidades, ¡comunícate con nosotros! Puedes preguntar en la lista de correo o aquí, en GitHub, abriendo un nuevo problema o dejando un Comentar sobre un tema relevante que ya esté abierto.\n",
      "Si eres nuevo en la contribución al código abierto, este ayuda a explicar por qué, qué, y cómo involucrarse con éxito.\n"
     ]
    }
   ],
   "source": [
    "for linea in lineas:\n",
    "    palabras = linea.split()\n",
    "\n",
    "    if len(palabras) > 1 and emp_with_vowel(palabras[1]):\n",
    "        print(linea)"
   ]
  }
 ],
 "metadata": {
  "kernelspec": {
   "display_name": "venv",
   "language": "python",
   "name": "python3"
  },
  "language_info": {
   "codemirror_mode": {
    "name": "ipython",
    "version": 3
   },
   "file_extension": ".py",
   "mimetype": "text/x-python",
   "name": "python",
   "nbconvert_exporter": "python",
   "pygments_lexer": "ipython3",
   "version": "3.11.8"
  }
 },
 "nbformat": 4,
 "nbformat_minor": 2
}
