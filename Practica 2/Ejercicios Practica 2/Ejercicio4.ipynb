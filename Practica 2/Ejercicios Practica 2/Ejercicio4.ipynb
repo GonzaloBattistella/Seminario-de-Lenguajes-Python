{
 "cells": [
  {
   "cell_type": "markdown",
   "metadata": {},
   "source": [
    "# Practica 2 "
   ]
  },
  {
   "cell_type": "markdown",
   "metadata": {},
   "source": [
    "### Ejercicio 4 \n"
   ]
  },
  {
   "cell_type": "markdown",
   "metadata": {},
   "source": [
    "4. Dado el siguiente código que informa si la letra a se encuentra en una palabra\n",
    "ingresada por teclado:\n"
   ]
  },
  {
   "cell_type": "code",
   "execution_count": 1,
   "metadata": {},
   "outputs": [
    {
     "name": "stdout",
     "output_type": "stream",
     "text": [
      "No hay letras a. \n"
     ]
    }
   ],
   "source": [
    "word = input(\"Ingresá una palabra: \")\n",
    "\n",
    "if \"a\" in word:\n",
    "    print(\"Hay al menos una letra a.\")\n",
    "else:\n",
    "    print(\"No hay letras a. \")"
   ]
  },
  {
   "cell_type": "markdown",
   "metadata": {},
   "source": [
    "**Salida:<br>**\n",
    "    Ingresá una palabra: mundo<br>\n",
    "    No hay letras a.<br>"
   ]
  },
  {
   "cell_type": "markdown",
   "metadata": {},
   "source": [
    "Si ahora queremos saber si contiene la letra a y también la letra n, ¿cómo lo\n",
    "modificamos?"
   ]
  },
  {
   "cell_type": "code",
   "execution_count": 10,
   "metadata": {},
   "outputs": [
    {
     "name": "stdout",
     "output_type": "stream",
     "text": [
      "Palabra Ingresada: AnclA\n",
      "Hay al menos una letra a y una letra n.\n"
     ]
    }
   ],
   "source": [
    "word = input(\"Ingresá una palabra: \")\n",
    "\n",
    "print(f\"Palabra Ingresada: {word}\")\n",
    "\n",
    "if \"a\" in word.lower() and \"n\" in word.lower():\n",
    "    print(\"Hay al menos una letra a y una letra n.\")\n",
    "else:\n",
    "    print(\"La palabra no contiene letras a y n. \")\n"
   ]
  }
 ],
 "metadata": {
  "kernelspec": {
   "display_name": "venv",
   "language": "python",
   "name": "python3"
  },
  "language_info": {
   "codemirror_mode": {
    "name": "ipython",
    "version": 3
   },
   "file_extension": ".py",
   "mimetype": "text/x-python",
   "name": "python",
   "nbconvert_exporter": "python",
   "pygments_lexer": "ipython3",
   "version": "3.11.8"
  }
 },
 "nbformat": 4,
 "nbformat_minor": 2
}
