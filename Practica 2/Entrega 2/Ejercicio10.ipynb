{
 "cells": [
  {
   "cell_type": "markdown",
   "metadata": {},
   "source": [
    "# Entrega 2 "
   ]
  },
  {
   "cell_type": "markdown",
   "metadata": {},
   "source": [
    "### Ejercicio 10 "
   ]
  },
  {
   "cell_type": "markdown",
   "metadata": {},
   "source": [
    "Un club de hockey posee las estadísticas de todos sus jugadores de la última\n",
    "temporada jugada del torneo de hockey mixto. Poseen una lista con los nombres, otra\n",
    "con los goles a favor, otra con los goles evitados y la última con las asistencias\n",
    "realizadas. El club está por otorgar los premios de cierre de temporada y necesita:<br>\n",
    "1. Generar una estructura todas las estadísticas asociadas a cada jugador o\n",
    "jugadora.<br>\n",
    "2. Conocer el nombre y la cantidad de goles del goleador o goleadora.<br>\n",
    "3. Conocer el nombre del jugador o jugadora más influyente, esto se consigue\n",
    "sumando goles a favor, goles evitados y cantidad de asistencias. La particularidad\n",
    "es que los goles a favor, evitados y las asistencias NO valen lo mismo (es un\n",
    "promedio ponderado):<br>\n",
    "\n",
    "    Valores:<br>\n",
    "    goles a favor = 1.5<br>\n",
    "    goles en evitados = 1.25<br>\n",
    "    asistencias = 1<br>\n",
    "\n",
    "4. Conocer el promedio de goles por partido del equipo en general. Dato: Se jugaron\n",
    "25 partidos en la temporada.<br>\n",
    "5. Conocer el promedio de goles por partido del goleador o goleadora. Dato: Se\n",
    "jugaron 25 partidos en la temporada.<br>\n",
    "\n",
    "Nota:<br>\n",
    "Las 4 estructuras están ordenadas de forma que los elementos en la misma\n",
    "posición corresponden a un mismo jugador o jugadora.<br>\n",
    "Realizar funciones con cada ítem.<br>"
   ]
  },
  {
   "cell_type": "markdown",
   "metadata": {},
   "source": [
    "### Inciso 1 \n"
   ]
  },
  {
   "cell_type": "markdown",
   "metadata": {},
   "source": [
    "Creo la Esctructura con la informacion de los jugadores."
   ]
  },
  {
   "cell_type": "code",
   "execution_count": 8,
   "metadata": {},
   "outputs": [],
   "source": [
    "info_jugadores = {\n",
    "    \"Names\" : [\"Agustin\",\" Yanina\", \"Andrés\", \"Ariadna\", \"Bautista\", \"CAROLINA\",\n",
    "\"CESAR\", \"David\", \"Diego\", \"Dolores\", \"DYLAN\", \"ELIANA\", \"Emanuel\", \"Fabián\", \"Noelia\",\n",
    "\"Francisca\", \"FEDERICO\", \"Fernanda\", \"GONZALO\", \"Nancy\"],\n",
    "    \"Goals\" : [0, 10, 4, 0, 5, 14, 0, 0, 7, 2, 1, 1, 1, 5, 6, 1, 1, 2, 0,\n",
    "11],\n",
    "    \"Goals_avoided\" : [0, 2, 0, 0, 5, 2, 0, 0, 1, 2, 0, 5, 5, 0, 1, 0, 2,\n",
    "3, 0, 0],\n",
    "    \"Assists\" : [0, 5, 1, 0, 5, 2, 0, 0, 1, 2, 1, 5, 5, 0, 1, 0, 2, 3, 1,\n",
    "0]\n",
    "}"
   ]
  },
  {
   "cell_type": "markdown",
   "metadata": {},
   "source": [
    "Importo las funciones que se encuentran dentro de la carpeta \"Funciones\""
   ]
  },
  {
   "cell_type": "code",
   "execution_count": 9,
   "metadata": {},
   "outputs": [],
   "source": [
    "import Funciones"
   ]
  },
  {
   "cell_type": "markdown",
   "metadata": {},
   "source": [
    "### Inciso 2"
   ]
  },
  {
   "cell_type": "code",
   "execution_count": 10,
   "metadata": {},
   "outputs": [
    {
     "name": "stdout",
     "output_type": "stream",
     "text": [
      "El/La jugador/jugadora CAROLINA es el/la goleador/a con 14 goles en la Temporada\n"
     ]
    }
   ],
   "source": [
    "Funciones.info_goleador(info_jugadores)"
   ]
  },
  {
   "cell_type": "markdown",
   "metadata": {},
   "source": [
    "### Inciso 3 "
   ]
  },
  {
   "cell_type": "code",
   "execution_count": 11,
   "metadata": {},
   "outputs": [
    {
     "name": "stdout",
     "output_type": "stream",
     "text": [
      "El/la jugador/a mas influyente de la temporada fue CAROLINA con 25.5 puntos\n"
     ]
    }
   ],
   "source": [
    "Funciones.mas_influyente(info_jugadores)"
   ]
  },
  {
   "cell_type": "markdown",
   "metadata": {},
   "source": [
    "### Inciso 4 "
   ]
  },
  {
   "cell_type": "code",
   "execution_count": 12,
   "metadata": {},
   "outputs": [
    {
     "name": "stdout",
     "output_type": "stream",
     "text": [
      "El promedio de goles por partido del equipo en general fue: 2.84\n"
     ]
    }
   ],
   "source": [
    "print(f\"El promedio de goles por partido del equipo en general fue: {Funciones.promedio_general(info_jugadores)}\")"
   ]
  },
  {
   "cell_type": "markdown",
   "metadata": {},
   "source": [
    "### Inciso 5 "
   ]
  },
  {
   "cell_type": "code",
   "execution_count": 13,
   "metadata": {},
   "outputs": [
    {
     "name": "stdout",
     "output_type": "stream",
     "text": [
      "El promedio de goles por partido del goleador/a fue: 0.56\n"
     ]
    }
   ],
   "source": [
    "print(f\"El promedio de goles por partido del goleador/a fue: {Funciones.prom_goleador(info_jugadores)}\")"
   ]
  }
 ],
 "metadata": {
  "kernelspec": {
   "display_name": "venv",
   "language": "python",
   "name": "python3"
  },
  "language_info": {
   "codemirror_mode": {
    "name": "ipython",
    "version": 3
   },
   "file_extension": ".py",
   "mimetype": "text/x-python",
   "name": "python",
   "nbconvert_exporter": "python",
   "pygments_lexer": "ipython3",
   "version": "3.11.8"
  }
 },
 "nbformat": 4,
 "nbformat_minor": 2
}
